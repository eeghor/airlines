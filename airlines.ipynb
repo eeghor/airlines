{
 "cells": [
  {
   "cell_type": "code",
   "execution_count": 13,
   "metadata": {},
   "outputs": [],
   "source": [
    "import requests\n",
    "import json\n",
    "import os\n",
    "from bs4 import BeautifulSoup"
   ]
  },
  {
   "cell_type": "code",
   "execution_count": 20,
   "metadata": {},
   "outputs": [],
   "source": [
    "class Airlines:\n",
    "    \n",
    "    def __init__(self):\n",
    "        \n",
    "        self.airlines = []\n",
    "    \n",
    "    def get(self, url='https://www.onetravel.com/travel/travelcodes.asp'):\n",
    "        \n",
    "        r = requests.get(url).text\n",
    "        soup = BeautifulSoup(r, 'html.parser')\n",
    "        \n",
    "        # visit each section corresponsing to the firs letter of airline's name\n",
    "        for d in soup.find_all('div', class_='airlineCode'):\n",
    "            for l in d.find_all('li'):\n",
    "                a_ = l.find('a')\n",
    "                self.airlines.append({'code': l.find('span').text.lower(),\n",
    "                                     'website': max(a_.get('href').lower().split('/'), key=len),\n",
    "                                     'name': a_.text.lower()})\n",
    "                \n",
    "        print(f'collected {len(self.airlines)} airlines')\n",
    "        \n",
    "        return self\n",
    "    \n",
    "    def save(self, file='airlines.json'):\n",
    "        \n",
    "        if not os.path.exists('data'):\n",
    "            os.mkdir('data')\n",
    "            \n",
    "        json.dump(self.airlines, open(os.path.join('data', file), 'w'))"
   ]
  },
  {
   "cell_type": "code",
   "execution_count": 21,
   "metadata": {},
   "outputs": [
    {
     "name": "stdout",
     "output_type": "stream",
     "text": [
      "collected 253 airlines\n"
     ]
    }
   ],
   "source": [
    "if __name__ == '__main__':\n",
    "    \n",
    "    a = Airlines()\n",
    "    a.get().save()"
   ]
  },
  {
   "cell_type": "code",
   "execution_count": null,
   "metadata": {},
   "outputs": [],
   "source": []
  }
 ],
 "metadata": {
  "kernelspec": {
   "display_name": "Python 3",
   "language": "python",
   "name": "python3"
  },
  "language_info": {
   "codemirror_mode": {
    "name": "ipython",
    "version": 3
   },
   "file_extension": ".py",
   "mimetype": "text/x-python",
   "name": "python",
   "nbconvert_exporter": "python",
   "pygments_lexer": "ipython3",
   "version": "3.6.6"
  }
 },
 "nbformat": 4,
 "nbformat_minor": 2
}
